{
 "cells": [
  {
   "cell_type": "markdown",
   "id": "9f341551",
   "metadata": {
    "slideshow": {
     "slide_type": "slide"
    }
   },
   "source": [
    "<center><img src=\"./assets/Logo.svg\" alt=\"OS\"/></center>\n",
    "\n",
    "<center><h2><b>Keep it free and open</b></h2></center>"
   ]
  },
  {
   "cell_type": "markdown",
   "id": "6f9cd155",
   "metadata": {
    "slideshow": {
     "slide_type": "slide"
    }
   },
   "source": [
    "# OpenSearch & OpenSearch Dashboards, who? 🤔\n",
    "\n",
    "\n",
    "On 12 April 2021, Amazon announces OpenSearch project, a community-driven, open source fork of Elasticsearch and Kibana.\n",
    "\n",
    "This project includes **OpenSearch**, derived from *Elasticsearch 7.10.2*, and **OpenSearch Dashboards**, derived from *Kibana 7.10.2*. Additionally, the *OpenSearch project is the new home for Amazon's distribution of Elasticsearch, Open Distro for Elasticsearch, which includes features such as enterprise security, alerting, machine learning, SQL, index state management and more.*\n",
    "\n",
    "**All of the software in the OpenSearch project is released under the Apache License, Version 2.0 (ALv2).**"
   ]
  },
  {
   "cell_type": "markdown",
   "id": "72aa49e1",
   "metadata": {
    "slideshow": {
     "slide_type": "slide"
    }
   },
   "source": [
    "## Why do we need OpenSearch? Isn't it just a rebranding-fork? 🙄\n",
    "<center><img src=\"./assets/wellnoyes.jpg\" alt=\"Well Maybe?\"/></center>"
   ]
  },
  {
   "cell_type": "markdown",
   "id": "28e28744",
   "metadata": {
    "slideshow": {
     "slide_type": "slide"
    }
   },
   "source": [
    "## Let's make it short, shall we? 🤏\n",
    "\n",
    "\n",
    "On January 2021, Elastic announced that they will change their software licensing strategy and *will not release the new versions of Elasticsearch and Kibana under the Apache License, Version 2.0 (ALv2)*. Instead, the new versions of the software will be offered under the *Elastic License*, which limits how it can be used, or the *Server Side Public License* (SSPL), which has requirements that make it unacceptable to many in the open source community. **This means that Elasticsearch and Kibana will no longer be open source software.** \n",
    "\n",
    "Switching to SSPL, Elastic claims that their products continue to remain “open” under the new license, but the new license actually has taken away user rights.Licenses such as SSPL allow a user to view the source code but do not allow other highly important rights protected by the Open Source Definition, such as the right to make use of the program for any field of endeavor.\n",
    "\n",
    "*In a post it unironically titled “Doubling Down on Open,” Elastic says that it now can “restrict cloud service providers from offering our software as a service” in violation of Open Source Definition art.6. Elastic didn’t double down, it threw its cards in.*"
   ]
  },
  {
   "cell_type": "markdown",
   "id": "9b47c0f5",
   "metadata": {
    "slideshow": {
     "slide_type": "slide"
    }
   },
   "source": [
    "## How did the community react? 👀\n",
    "<center><img src=\"./assets/community.jpg\" alt=\"Community\" width=\"900\"/></center>"
   ]
  },
  {
   "cell_type": "markdown",
   "id": "6cfe429d",
   "metadata": {
    "slideshow": {
     "slide_type": "slide"
    }
   },
   "source": [
    "## The situation at time of writing ⏰\n",
    "\n",
    "Amazon is not alone behind OpenSeach Project, organizations such as *Red Hat*, *SAP*, *Capital One*, and *Logz.io* have joined in support for this huge project.\n",
    "\n",
    "On *13 May 2021*, Amazon announces the first **General Available** (GA) release: *OpenSearch 1.0.0 Beta 1*!\n",
    "\n",
    "* OpenSearch and OpenSearch Dashboards based on respectively on ElasticSeatch 7.10.2 and Kibana 7.10.2\n",
    "* Tarball archives ready to install\n",
    "* Docker images ready to be pulled\n",
    "* Docker-compose example provided (The one we are going to use)\n",
    "\n",
    "*Let's start a OpenSearch instance!*"
   ]
  },
  {
   "cell_type": "markdown",
   "id": "1f0bdb66",
   "metadata": {
    "slideshow": {
     "slide_type": "slide"
    }
   },
   "source": [
    "## 0. Get Docker and Compose working on your machine 😬\n",
    "\n",
    "<center><img src=\"./assets/ohboy.jpg\" alt=\"Dude, don't troll\" width=\"800\"/></center>\n",
    "\n",
    "*Ahahahaha, nice joke!*\n",
    "\n",
    "How did you get here while attending TAP 2021+ course without a running Docker? \n",
    "\n",
    "**Don't cheat.**"
   ]
  },
  {
   "cell_type": "markdown",
   "id": "399aa039",
   "metadata": {
    "slideshow": {
     "slide_type": "slide"
    }
   },
   "source": [
    "## 1. Get the Docker-Compose file 📦\n",
    "\n",
    "We are going to creare a *tmpOS* folder and download the file inside there.\n",
    "\n",
    ">```\n",
    "mkdir \"tmpOS\" && \\\n",
    "cd ./tmpOS && \\\n",
    "curl -O \"https://www.opensearch.org/samples/docker-compose.yml\n",
    "\n",
    "**Requirements**:\n",
    "* **curl** (*apt install curl* | *dnf install curl* | *apk add curl*)\n"
   ]
  },
  {
   "cell_type": "code",
   "execution_count": 2,
   "id": "5278cce8",
   "metadata": {
    "scrolled": false,
    "slideshow": {
     "slide_type": "slide"
    }
   },
   "outputs": [
    {
     "name": "stderr",
     "output_type": "stream",
     "text": [
      "mkdir: cannot create directory ‘tmpOS’: File exists\n"
     ]
    },
    {
     "ename": "CalledProcessError",
     "evalue": "Command 'b'mkdir \"tmpOS\" && \\\\\\ncd \"./tmpOS\" && \\\\\\ncurl -O \"https://www.opensearch.org/samples/docker-compose.yml\" &> /dev/null\\n'' returned non-zero exit status 1.",
     "output_type": "error",
     "traceback": [
      "\u001b[0;31m---------------------------------------------------------------------------\u001b[0m",
      "\u001b[0;31mCalledProcessError\u001b[0m                        Traceback (most recent call last)",
      "\u001b[0;32m<ipython-input-2-1e471648e31c>\u001b[0m in \u001b[0;36m<module>\u001b[0;34m\u001b[0m\n\u001b[0;32m----> 1\u001b[0;31m \u001b[0mget_ipython\u001b[0m\u001b[0;34m(\u001b[0m\u001b[0;34m)\u001b[0m\u001b[0;34m.\u001b[0m\u001b[0mrun_cell_magic\u001b[0m\u001b[0;34m(\u001b[0m\u001b[0;34m'bash'\u001b[0m\u001b[0;34m,\u001b[0m \u001b[0;34m''\u001b[0m\u001b[0;34m,\u001b[0m \u001b[0;34m'mkdir \"tmpOS\" && \\\\\\ncd \"./tmpOS\" && \\\\\\ncurl -O \"https://www.opensearch.org/samples/docker-compose.yml\" &> /dev/null\\n'\u001b[0m\u001b[0;34m)\u001b[0m\u001b[0;34m\u001b[0m\u001b[0;34m\u001b[0m\u001b[0m\n\u001b[0m",
      "\u001b[0;32m~/.local/lib/python3.8/site-packages/IPython/core/interactiveshell.py\u001b[0m in \u001b[0;36mrun_cell_magic\u001b[0;34m(self, magic_name, line, cell)\u001b[0m\n\u001b[1;32m   2401\u001b[0m             \u001b[0;32mwith\u001b[0m \u001b[0mself\u001b[0m\u001b[0;34m.\u001b[0m\u001b[0mbuiltin_trap\u001b[0m\u001b[0;34m:\u001b[0m\u001b[0;34m\u001b[0m\u001b[0;34m\u001b[0m\u001b[0m\n\u001b[1;32m   2402\u001b[0m                 \u001b[0margs\u001b[0m \u001b[0;34m=\u001b[0m \u001b[0;34m(\u001b[0m\u001b[0mmagic_arg_s\u001b[0m\u001b[0;34m,\u001b[0m \u001b[0mcell\u001b[0m\u001b[0;34m)\u001b[0m\u001b[0;34m\u001b[0m\u001b[0;34m\u001b[0m\u001b[0m\n\u001b[0;32m-> 2403\u001b[0;31m                 \u001b[0mresult\u001b[0m \u001b[0;34m=\u001b[0m \u001b[0mfn\u001b[0m\u001b[0;34m(\u001b[0m\u001b[0;34m*\u001b[0m\u001b[0margs\u001b[0m\u001b[0;34m,\u001b[0m \u001b[0;34m**\u001b[0m\u001b[0mkwargs\u001b[0m\u001b[0;34m)\u001b[0m\u001b[0;34m\u001b[0m\u001b[0;34m\u001b[0m\u001b[0m\n\u001b[0m\u001b[1;32m   2404\u001b[0m             \u001b[0;32mreturn\u001b[0m \u001b[0mresult\u001b[0m\u001b[0;34m\u001b[0m\u001b[0;34m\u001b[0m\u001b[0m\n\u001b[1;32m   2405\u001b[0m \u001b[0;34m\u001b[0m\u001b[0m\n",
      "\u001b[0;32m~/.local/lib/python3.8/site-packages/IPython/core/magics/script.py\u001b[0m in \u001b[0;36mnamed_script_magic\u001b[0;34m(line, cell)\u001b[0m\n\u001b[1;32m    140\u001b[0m             \u001b[0;32melse\u001b[0m\u001b[0;34m:\u001b[0m\u001b[0;34m\u001b[0m\u001b[0;34m\u001b[0m\u001b[0m\n\u001b[1;32m    141\u001b[0m                 \u001b[0mline\u001b[0m \u001b[0;34m=\u001b[0m \u001b[0mscript\u001b[0m\u001b[0;34m\u001b[0m\u001b[0;34m\u001b[0m\u001b[0m\n\u001b[0;32m--> 142\u001b[0;31m             \u001b[0;32mreturn\u001b[0m \u001b[0mself\u001b[0m\u001b[0;34m.\u001b[0m\u001b[0mshebang\u001b[0m\u001b[0;34m(\u001b[0m\u001b[0mline\u001b[0m\u001b[0;34m,\u001b[0m \u001b[0mcell\u001b[0m\u001b[0;34m)\u001b[0m\u001b[0;34m\u001b[0m\u001b[0;34m\u001b[0m\u001b[0m\n\u001b[0m\u001b[1;32m    143\u001b[0m \u001b[0;34m\u001b[0m\u001b[0m\n\u001b[1;32m    144\u001b[0m         \u001b[0;31m# write a basic docstring:\u001b[0m\u001b[0;34m\u001b[0m\u001b[0;34m\u001b[0m\u001b[0;34m\u001b[0m\u001b[0m\n",
      "\u001b[0;32m~/.local/lib/python3.8/site-packages/decorator.py\u001b[0m in \u001b[0;36mfun\u001b[0;34m(*args, **kw)\u001b[0m\n\u001b[1;32m    230\u001b[0m             \u001b[0;32mif\u001b[0m \u001b[0;32mnot\u001b[0m \u001b[0mkwsyntax\u001b[0m\u001b[0;34m:\u001b[0m\u001b[0;34m\u001b[0m\u001b[0;34m\u001b[0m\u001b[0m\n\u001b[1;32m    231\u001b[0m                 \u001b[0margs\u001b[0m\u001b[0;34m,\u001b[0m \u001b[0mkw\u001b[0m \u001b[0;34m=\u001b[0m \u001b[0mfix\u001b[0m\u001b[0;34m(\u001b[0m\u001b[0margs\u001b[0m\u001b[0;34m,\u001b[0m \u001b[0mkw\u001b[0m\u001b[0;34m,\u001b[0m \u001b[0msig\u001b[0m\u001b[0;34m)\u001b[0m\u001b[0;34m\u001b[0m\u001b[0;34m\u001b[0m\u001b[0m\n\u001b[0;32m--> 232\u001b[0;31m             \u001b[0;32mreturn\u001b[0m \u001b[0mcaller\u001b[0m\u001b[0;34m(\u001b[0m\u001b[0mfunc\u001b[0m\u001b[0;34m,\u001b[0m \u001b[0;34m*\u001b[0m\u001b[0;34m(\u001b[0m\u001b[0mextras\u001b[0m \u001b[0;34m+\u001b[0m \u001b[0margs\u001b[0m\u001b[0;34m)\u001b[0m\u001b[0;34m,\u001b[0m \u001b[0;34m**\u001b[0m\u001b[0mkw\u001b[0m\u001b[0;34m)\u001b[0m\u001b[0;34m\u001b[0m\u001b[0;34m\u001b[0m\u001b[0m\n\u001b[0m\u001b[1;32m    233\u001b[0m     \u001b[0mfun\u001b[0m\u001b[0;34m.\u001b[0m\u001b[0m__name__\u001b[0m \u001b[0;34m=\u001b[0m \u001b[0mfunc\u001b[0m\u001b[0;34m.\u001b[0m\u001b[0m__name__\u001b[0m\u001b[0;34m\u001b[0m\u001b[0;34m\u001b[0m\u001b[0m\n\u001b[1;32m    234\u001b[0m     \u001b[0mfun\u001b[0m\u001b[0;34m.\u001b[0m\u001b[0m__doc__\u001b[0m \u001b[0;34m=\u001b[0m \u001b[0mfunc\u001b[0m\u001b[0;34m.\u001b[0m\u001b[0m__doc__\u001b[0m\u001b[0;34m\u001b[0m\u001b[0;34m\u001b[0m\u001b[0m\n",
      "\u001b[0;32m~/.local/lib/python3.8/site-packages/IPython/core/magic.py\u001b[0m in \u001b[0;36m<lambda>\u001b[0;34m(f, *a, **k)\u001b[0m\n\u001b[1;32m    185\u001b[0m     \u001b[0;31m# but it's overkill for just that one bit of state.\u001b[0m\u001b[0;34m\u001b[0m\u001b[0;34m\u001b[0m\u001b[0;34m\u001b[0m\u001b[0m\n\u001b[1;32m    186\u001b[0m     \u001b[0;32mdef\u001b[0m \u001b[0mmagic_deco\u001b[0m\u001b[0;34m(\u001b[0m\u001b[0marg\u001b[0m\u001b[0;34m)\u001b[0m\u001b[0;34m:\u001b[0m\u001b[0;34m\u001b[0m\u001b[0;34m\u001b[0m\u001b[0m\n\u001b[0;32m--> 187\u001b[0;31m         \u001b[0mcall\u001b[0m \u001b[0;34m=\u001b[0m \u001b[0;32mlambda\u001b[0m \u001b[0mf\u001b[0m\u001b[0;34m,\u001b[0m \u001b[0;34m*\u001b[0m\u001b[0ma\u001b[0m\u001b[0;34m,\u001b[0m \u001b[0;34m**\u001b[0m\u001b[0mk\u001b[0m\u001b[0;34m:\u001b[0m \u001b[0mf\u001b[0m\u001b[0;34m(\u001b[0m\u001b[0;34m*\u001b[0m\u001b[0ma\u001b[0m\u001b[0;34m,\u001b[0m \u001b[0;34m**\u001b[0m\u001b[0mk\u001b[0m\u001b[0;34m)\u001b[0m\u001b[0;34m\u001b[0m\u001b[0;34m\u001b[0m\u001b[0m\n\u001b[0m\u001b[1;32m    188\u001b[0m \u001b[0;34m\u001b[0m\u001b[0m\n\u001b[1;32m    189\u001b[0m         \u001b[0;32mif\u001b[0m \u001b[0mcallable\u001b[0m\u001b[0;34m(\u001b[0m\u001b[0marg\u001b[0m\u001b[0;34m)\u001b[0m\u001b[0;34m:\u001b[0m\u001b[0;34m\u001b[0m\u001b[0;34m\u001b[0m\u001b[0m\n",
      "\u001b[0;32m~/.local/lib/python3.8/site-packages/IPython/core/magics/script.py\u001b[0m in \u001b[0;36mshebang\u001b[0;34m(self, line, cell)\u001b[0m\n\u001b[1;32m    243\u001b[0m             \u001b[0msys\u001b[0m\u001b[0;34m.\u001b[0m\u001b[0mstderr\u001b[0m\u001b[0;34m.\u001b[0m\u001b[0mflush\u001b[0m\u001b[0;34m(\u001b[0m\u001b[0;34m)\u001b[0m\u001b[0;34m\u001b[0m\u001b[0;34m\u001b[0m\u001b[0m\n\u001b[1;32m    244\u001b[0m         \u001b[0;32mif\u001b[0m \u001b[0margs\u001b[0m\u001b[0;34m.\u001b[0m\u001b[0mraise_error\u001b[0m \u001b[0;32mand\u001b[0m \u001b[0mp\u001b[0m\u001b[0;34m.\u001b[0m\u001b[0mreturncode\u001b[0m\u001b[0;34m!=\u001b[0m\u001b[0;36m0\u001b[0m\u001b[0;34m:\u001b[0m\u001b[0;34m\u001b[0m\u001b[0;34m\u001b[0m\u001b[0m\n\u001b[0;32m--> 245\u001b[0;31m             \u001b[0;32mraise\u001b[0m \u001b[0mCalledProcessError\u001b[0m\u001b[0;34m(\u001b[0m\u001b[0mp\u001b[0m\u001b[0;34m.\u001b[0m\u001b[0mreturncode\u001b[0m\u001b[0;34m,\u001b[0m \u001b[0mcell\u001b[0m\u001b[0;34m,\u001b[0m \u001b[0moutput\u001b[0m\u001b[0;34m=\u001b[0m\u001b[0mout\u001b[0m\u001b[0;34m,\u001b[0m \u001b[0mstderr\u001b[0m\u001b[0;34m=\u001b[0m\u001b[0merr\u001b[0m\u001b[0;34m)\u001b[0m\u001b[0;34m\u001b[0m\u001b[0;34m\u001b[0m\u001b[0m\n\u001b[0m\u001b[1;32m    246\u001b[0m \u001b[0;34m\u001b[0m\u001b[0m\n\u001b[1;32m    247\u001b[0m     \u001b[0;32mdef\u001b[0m \u001b[0m_run_script\u001b[0m\u001b[0;34m(\u001b[0m\u001b[0mself\u001b[0m\u001b[0;34m,\u001b[0m \u001b[0mp\u001b[0m\u001b[0;34m,\u001b[0m \u001b[0mcell\u001b[0m\u001b[0;34m,\u001b[0m \u001b[0mto_close\u001b[0m\u001b[0;34m)\u001b[0m\u001b[0;34m:\u001b[0m\u001b[0;34m\u001b[0m\u001b[0;34m\u001b[0m\u001b[0m\n",
      "\u001b[0;31mCalledProcessError\u001b[0m: Command 'b'mkdir \"tmpOS\" && \\\\\\ncd \"./tmpOS\" && \\\\\\ncurl -O \"https://www.opensearch.org/samples/docker-compose.yml\" &> /dev/null\\n'' returned non-zero exit status 1."
     ]
    }
   ],
   "source": [
    "%%bash\n",
    "mkdir \"tmpOS\" && \\\n",
    "cd \"./tmpOS\" && \\\n",
    "curl -O \"https://www.opensearch.org/samples/docker-compose.yml\" &> /dev/null\n"
   ]
  },
  {
   "cell_type": "markdown",
   "id": "30e9be92",
   "metadata": {
    "slideshow": {
     "slide_type": "slide"
    }
   },
   "source": [
    "## 2. So easy, let's compose up! ⚠️\n",
    "\n",
    "Well... not that easy.\n",
    "\n",
    "*On WSL2 machines or Linux machines, OpenSearch nodes will refuse to run exiting with code 1.*\n",
    "\n",
    "**Why?**\n",
    "\n",
    "~Elasticsearch~ *OpenSearch* uses a mmapfs directory by default to store its indices. The *default operating system limits on mmap counts is likely to be too low*, which may result in out of memory exceptions.\n",
    "\n",
    "To increase the limit we need to run the following command as root:\n",
    "> sysctl -w vm.max_map_count=262144"
   ]
  },
  {
   "cell_type": "code",
   "execution_count": null,
   "id": "922cbf72",
   "metadata": {},
   "outputs": [],
   "source": [
    "import getpass\n",
    "import os\n",
    "password = getpass.getpass()\n",
    "command = \"sudo -S sysctl -w vm.max_map_count=262144\"\n",
    "os.system('echo %s | %s' % (password, command))"
   ]
  },
  {
   "cell_type": "markdown",
   "id": "278f5e76",
   "metadata": {
    "slideshow": {
     "slide_type": "slide"
    }
   },
   "source": [
    "## 2.1. Let's compose up! ☕️\n",
    "\n",
    "Now, we are finally ready to start up our example. Just run:\n",
    "\n",
    "> docker-compose up\n",
    "\n",
    "Quoting OpenSearch's blog: *Have a nice coffee while everything is downloading and starting up*"
   ]
  },
  {
   "cell_type": "code",
   "execution_count": null,
   "id": "f8397343",
   "metadata": {
    "slideshow": {
     "slide_type": "slide"
    }
   },
   "outputs": [],
   "source": [
    "%%bash\n",
    "docker-compose up"
   ]
  },
  {
   "cell_type": "markdown",
   "id": "4e0cf70d",
   "metadata": {
    "slideshow": {
     "slide_type": "slide"
    }
   },
   "source": [
    "## 3. \"Hacking the system...\" 🧑🏻‍💻\n",
    "<center><img src=\"./assets/readytogo.jpg\" alt=\"Ready\"/></center>\n",
    "\n",
    "* We can now log in at http://localhost:5601/\n",
    "* Using as Username: **admin** (super secure!)\n",
    "* Using as Password: **admin** (super secure!)\n",
    "\n",
    "<center><img src=\"./assets/login.jpg\" alt=\"Login\"/></center>\n"
   ]
  },
  {
   "cell_type": "markdown",
   "id": "6a75eb22",
   "metadata": {
    "slideshow": {
     "slide_type": "slide"
    }
   },
   "source": [
    "<center><img src=\"./assets/OSD.jpg\" alt=\"Home\"/></center>\n"
   ]
  },
  {
   "cell_type": "markdown",
   "id": "3b9414b5",
   "metadata": {
    "slideshow": {
     "slide_type": "slide"
    }
   },
   "source": [
    "## OpenSearch Beta 1, what changes?\n",
    "\n",
    "**Nothing**, for now.\n",
    "\n",
    "*All of the concepts seen in class are still applicable.*\n",
    "\n",
    "The documentation warns that the project is still in development and nothing is final yet. Breaking-changes may be introduced as OpenSearch becomes more established.\n",
    "\n",
    "The new licenses introduced by Elastic do not favor the open-source world in any way, we cannot predict future changes but one thing is certain: very soon the open-source community will migrate its interest to OpenSearch.\n"
   ]
  },
  {
   "cell_type": "markdown",
   "id": "9d06f794",
   "metadata": {
    "slideshow": {
     "slide_type": "slide"
    }
   },
   "source": [
    "As said before: **ElasticSearch is not a open source software anymore**\n",
    "\n",
    "<center><img src=\"./assets/prayforopensource.jpg\" alt=\"Pray\" width=900/></center>"
   ]
  },
  {
   "cell_type": "markdown",
   "id": "a11967e1",
   "metadata": {
    "slideshow": {
     "slide_type": "slide"
    }
   },
   "source": [
    "# Thank you for your attention\n",
    "\n",
    "<center><img src=\"./assets/thanks.jpg\" alt=\"Thanks\" width=600/></center>\n"
   ]
  },
  {
   "cell_type": "markdown",
   "id": "84c86903",
   "metadata": {
    "slideshow": {
     "slide_type": "slide"
    }
   },
   "source": [
    "## Important Links\n",
    "\n",
    "* [OpenSearch Official Website](https://www.opensearch.org/)\n",
    "* [OpenSearch GitHub Repository](https://github.com/opensearch-project/OpenSearch)\n",
    "* [OpenSearch Dashboards GitHub Repository](https://github.com/opensearch-project/OpenSearch-Dashboards)\n",
    "* [Introducing OpenSearch on Amazon Blog](https://aws.amazon.com/it/blogs/opensource/introducing-opensearch/)\n",
    "* [The SSPL is Not an Open Source License](https://opensource.org/node/1099)\n",
    "* [Open Source Definition](https://opensource.org/osd)\n",
    "* [Elastic License Changing](https://www.elastic.co/blog/licensing-change)"
   ]
  }
 ],
 "metadata": {
  "celltoolbar": "Slideshow",
  "kernelspec": {
   "display_name": "Python 3",
   "language": "python",
   "name": "python3"
  },
  "language_info": {
   "codemirror_mode": {
    "name": "ipython",
    "version": 3
   },
   "file_extension": ".py",
   "mimetype": "text/x-python",
   "name": "python",
   "nbconvert_exporter": "python",
   "pygments_lexer": "ipython3",
   "version": "3.8.5"
  }
 },
 "nbformat": 4,
 "nbformat_minor": 5
}
